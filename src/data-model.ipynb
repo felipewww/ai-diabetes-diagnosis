{
 "cells": [
  {
   "cell_type": "code",
   "id": "initial_id",
   "metadata": {
    "collapsed": true,
    "ExecuteTime": {
     "end_time": "2025-07-28T15:36:22.804074Z",
     "start_time": "2025-07-28T15:36:22.799539Z"
    }
   },
   "source": [
    "import pandas as pd\n",
    "import numpy as np\n",
    "from data_prepare import zero_to_mean, zero_to_nan\n",
    "\n",
    "df = pd.read_csv(\"./data/diabetes.csv\")\n",
    "\n",
    "target = \"Outcome\"\n",
    "labels = df[target]\n",
    "df = df.drop(columns=[target, \"Pregnancies\"])\n",
    "\n",
    "num_cols = df.columns # \"X\"\n",
    "non_zero_cols = [\"Glucose\", \"BloodPressure\", \"SkinThickness\", \"Insulin\", \"BMI\"]"
   ],
   "outputs": [],
   "execution_count": 159
  },
  {
   "metadata": {},
   "cell_type": "markdown",
   "source": "# Pipeline",
   "id": "1bc204fc1dc55f80"
  },
  {
   "metadata": {
    "ExecuteTime": {
     "end_time": "2025-07-28T19:29:32.356090Z",
     "start_time": "2025-07-28T19:29:32.351126Z"
    }
   },
   "cell_type": "code",
   "source": [
    "from sklearn.impute import SimpleImputer\n",
    "from sklearn.pipeline import Pipeline\n",
    "from sklearn.preprocessing import StandardScaler, FunctionTransformer\n",
    "from sklearn.preprocessing import PowerTransformer\n",
    "from sklearn.compose import ColumnTransformer\n",
    "from sklearn.preprocessing import MinMaxScaler\n",
    "from sklearn.preprocessing import RobustScaler\n",
    "\n",
    "# zero_to_mean(df)\n",
    "non_zero_pipeline = Pipeline([\n",
    "    ('impute_zero_to_nan', FunctionTransformer(zero_to_nan)),\n",
    "    ('imputer', SimpleImputer(strategy='mean')),\n",
    "])\n",
    "\n",
    "pre_imputation = ColumnTransformer(\n",
    "    transformers=[\n",
    "        ('non_zero_clean', non_zero_pipeline, non_zero_cols),\n",
    "    ],\n",
    "    remainder='passthrough' # tudo que não for non_zero_cols passa sem mexer\n",
    ")\n",
    "\n",
    "def boost_glucose(X):\n",
    "    X[:, 0] *= 20  # Assume que Glucose será a primeira no pipeline após o ColumnTransformer\n",
    "    return X\n",
    "\n",
    "def boost_bmi(X):\n",
    "    X[:, 4] *= 10  # Assume que Glucose será a primeira no pipeline após o ColumnTransformer\n",
    "    return X\n",
    "\n",
    "def boost_insulin(X):\n",
    "    X[:, 4] *= 20  # Assume que Glucose será a primeira no pipeline após o ColumnTransformer\n",
    "    return X\n",
    "\n",
    "def clip_outliers_quantile(X: pd.DataFrame, lower=0.01, upper=0.99):\n",
    "    X = X.copy()\n",
    "    cols_to_clip = ['Insulin', 'SkinThickness']\n",
    "\n",
    "    for col in cols_to_clip:\n",
    "        q_low = X[col].quantile(lower)\n",
    "        q_high = X[col].quantile(upper)\n",
    "        X[col] = X[col].clip(lower=q_low, upper=q_high)\n",
    "\n",
    "    return X\n",
    "\n",
    "boost_glucose_transformer = FunctionTransformer(boost_glucose)\n",
    "boost_bmi_transformer = FunctionTransformer(boost_bmi)\n",
    "boost_insulin_transformer = FunctionTransformer(boost_insulin)\n",
    "\n",
    "# clipper = FunctionTransformer(\n",
    "#     lambda X: pd.DataFrame(\n",
    "#         clip_outliers_quantile(\n",
    "#             pd.DataFrame(X, columns=num_cols),\n",
    "#             upper=0.4\n",
    "#         ),\n",
    "#         columns=num_cols\n",
    "#     )\n",
    "# )\n",
    "\n",
    "preprocessor = Pipeline([\n",
    "    ('pre_clean', pre_imputation),\n",
    "    # ('clip_outliers', clipper),\n",
    "    # ('scaler', StandardScaler()),\n",
    "    ('minMax', MinMaxScaler()),\n",
    "    # ('glucose_scaler', glucose_scaler),\n",
    "    # ('powerTransformer', PowerTransformer()),\n",
    "    # ('robust', RobustScaler()),\n",
    "    ('boost_glucose', boost_glucose_transformer),\n",
    "    # ('boost_bmi', boost_bmi_transformer),\n",
    "    ('boost_insulin', boost_insulin_transformer),\n",
    "])"
   ],
   "id": "e0a907fdfad2d0b9",
   "outputs": [],
   "execution_count": 250
  },
  {
   "metadata": {
    "ExecuteTime": {
     "end_time": "2025-07-28T11:08:20.040608Z",
     "start_time": "2025-07-28T11:08:19.952016Z"
    }
   },
   "cell_type": "code",
   "source": [
    "dfn = clip_outliers_quantile(df, lower=0.2)\n",
    "df['SkinThickness'].hist(bins=50)\n",
    "# df['SkinThickness'].min()"
   ],
   "id": "7df8b67d6f25bd4f",
   "outputs": [
    {
     "data": {
      "text/plain": [
       "np.int64(0)"
      ]
     },
     "execution_count": 107,
     "metadata": {},
     "output_type": "execute_result"
    },
    {
     "data": {
      "text/plain": [
       "<Figure size 640x480 with 1 Axes>"
      ],
      "image/png": "[encoded data removed]"
     },
     "metadata": {},
     "output_type": "display_data"
    }
   ],
   "execution_count": 107
  },
  {
   "metadata": {},
   "cell_type": "markdown",
   "source": "# Methods - Prepare",
   "id": "fcf7e6dce77069db"
  },
  {
   "metadata": {
    "ExecuteTime": {
     "end_time": "2025-07-28T19:29:31.150511Z",
     "start_time": "2025-07-28T19:29:31.145649Z"
    }
   },
   "cell_type": "code",
   "source": [
    "from sklearn.model_selection import train_test_split\n",
    "from sklearn.metrics import accuracy_score, precision_score, recall_score, f1_score, confusion_matrix\n",
    "\n",
    "def stratify(df: pd.DataFrame, target: pd.DataFrame):\n",
    "    train_set, test_set, train_labels, test_labels = train_test_split(\n",
    "        df,\n",
    "        target,\n",
    "        test_size = 0.20,\n",
    "        random_state = 42,\n",
    "        stratify=target,\n",
    "    )\n",
    "\n",
    "    return train_set, train_labels, test_set, test_labels\n",
    "\n",
    "def prepare_train(df: pd.DataFrame):\n",
    "    prepared_data = preprocessor.fit_transform(df)\n",
    "\n",
    "    df_transformed = pd.DataFrame(\n",
    "        prepared_data,\n",
    "        columns=num_cols,\n",
    "        index=df.index,\n",
    "    )\n",
    "\n",
    "    return df_transformed\n",
    "\n",
    "def prepare_predict(df: pd.DataFrame, all_feature_names: list):\n",
    "    prepared_data = preprocessor.transform(df)\n",
    "    df_transformed = pd.DataFrame(\n",
    "        prepared_data,\n",
    "        columns=all_feature_names,\n",
    "        index=df.index\n",
    "    )\n",
    "\n",
    "    return df_transformed\n",
    "\n",
    "def model_exc(\n",
    "        model,\n",
    "        train_prepared: pd.DataFrame,\n",
    "        train_labels: pd.DataFrame,\n",
    "        test_set: pd.DataFrame,\n",
    "        test_labels: pd.DataFrame,\n",
    "        cols: list,\n",
    "):\n",
    "    model.fit(train_prepared, train_labels)\n",
    "\n",
    "    test_prepared = prepare_predict(test_set, cols)\n",
    "\n",
    "    # predictions = model.predict(test_prepared)\n",
    "    predictions = model.predict_proba(test_prepared)[:, 1]\n",
    "\n",
    "    # Por que reduzir o limiar (threshold) aumenta recall e parece melhorar o modelo?\n",
    "    # Modelos de classificação como o RandomForest retornam probabilidades.\n",
    "    # Padrão (0.5), se a probabilidade for > 0.5 → classe 1 (diabetes), senão → classe 0.\n",
    "    # reduzir o limiar para 0.2, está dizendo:\n",
    "    # “Se a chance de ser positivo for maior que 20%, já considero como positivo (classe 1).”\n",
    "    #\n",
    "    # Isso aumenta o número de positivos detectados (recall), porque você está sendo mais sensível.\n",
    "    threshold = 0.25\n",
    "    y_pred_custom = (predictions >= threshold).astype(int)\n",
    "\n",
    "    # print('ModelScore: ', model.score(test_prepared, test_labels))\n",
    "    results = evaluate(test_labels, y_pred_custom)\n",
    "    # print(results)\n",
    "    return results\n",
    "\n",
    "def evaluate(y_true, y_pred):\n",
    "    return {\n",
    "        'accuracy': accuracy_score(y_true, y_pred),\n",
    "        'precision': precision_score(y_true, y_pred), # prever negativos\n",
    "        'recall': recall_score(y_true, y_pred), # prever positivos\n",
    "        'f1_score': f1_score(y_true, y_pred) # equilíbrio precisão vs recall\n",
    "    }"
   ],
   "id": "57420325db5974c6",
   "outputs": [],
   "execution_count": 249
  },
  {
   "metadata": {},
   "cell_type": "markdown",
   "source": [
    "# Ver o step de conversão de ZEROS para médias\n",
    " apenas para garantir que está funcionando"
   ],
   "id": "79548b78620d0464"
  },
  {
   "metadata": {
    "ExecuteTime": {
     "end_time": "2025-07-28T15:11:36.340156Z",
     "start_time": "2025-07-28T15:11:36.322076Z"
    }
   },
   "cell_type": "code",
   "source": [
    "# Ver o step intermediário para garantir que os valores ZERO foram convertidos para média\n",
    "intermediate = preprocessor.named_steps['powerTransformer'].fit_transform(df)\n",
    "intermediate_df = pd.DataFrame(\n",
    "    intermediate,\n",
    "    columns=num_cols\n",
    ")\n",
    "intermediate_df[\"Glucose\"].describe()"
   ],
   "id": "4e7eae442c5caa2a",
   "outputs": [
    {
     "data": {
      "text/plain": [
       "count    7.680000e+02\n",
       "mean     4.209596e-16\n",
       "std      1.000652e+00\n",
       "min     -3.898273e+00\n",
       "25%     -6.815906e-01\n",
       "50%     -1.170451e-01\n",
       "75%      6.079309e-01\n",
       "max      2.423256e+00\n",
       "Name: Glucose, dtype: float64"
      ]
     },
     "execution_count": 26,
     "metadata": {},
     "output_type": "execute_result"
    }
   ],
   "execution_count": 26
  },
  {
   "metadata": {
    "ExecuteTime": {
     "end_time": "2025-07-28T19:29:35.931247Z",
     "start_time": "2025-07-28T19:29:35.919701Z"
    }
   },
   "cell_type": "code",
   "source": [
    "train_set, train_labels, test_set, test_labels = stratify(df, labels)\n",
    "# print(\"Proporção no treino:\", train_set.value_counts(normalize=True))\n",
    "# print(\"##################################################################\")\n",
    "# print(\"Proporção no teste:\", test_set.value_counts(normalize=True))\n",
    "train_prepared = prepare_train(train_set)"
   ],
   "id": "2e3074312735e62e",
   "outputs": [],
   "execution_count": 251
  },
  {
   "metadata": {
    "ExecuteTime": {
     "end_time": "2025-07-28T18:19:05.707041Z",
     "start_time": "2025-07-28T18:19:05.632836Z"
    }
   },
   "cell_type": "code",
   "source": [
    "from sklearn.model_selection import train_test_split, GridSearchCV, StratifiedKFold # Importe GridSearchCV e StratifiedKFold\n",
    "\n",
    "# O GridSearchCV faz o seguinte:\n",
    "# Você define um \"grid\" (grade) de valores que deseja testar para cada hiperparâmetro.\n",
    "# Ele testa todas as combinações possíveis desses valores.\n",
    "# Para cada combinação, ele realiza uma validação cruzada (como o StratifiedKFold que você já implementou) nos seus dados de treino.\n",
    "# Ele avalia o desempenho de cada combinação usando uma métrica de pontuação que você especificar (ex: recall, f1-score).\n",
    "#\n",
    "# No final, ele retorna o modelo com a melhor combinação de hiperparâmetros para a métrica escolhida.\n",
    "def grid(X_test, X_train, y_train, y_test, model, param_grid):\n",
    "    skf = StratifiedKFold(n_splits=5, shuffle=True, random_state=42)\n",
    "\n",
    "    grid_search = GridSearchCV(\n",
    "        estimator=model,\n",
    "        param_grid=param_grid,\n",
    "        cv=skf,           # Estratégia de validação cruzada\n",
    "        scoring='recall',         # A métrica que você quer otimizar! (Ou 'f1_weighted', 'roc_auc')\n",
    "        verbose=2,                # Nível de verbosidade (0=silencioso, 1=pouco, 2=completo)\n",
    "        n_jobs=-1                 # Usa todos os núcleos da CPU disponíveis para acelerar\n",
    "    )\n",
    "\n",
    "    print(\"Iniciando o GridSearchCV...\")\n",
    "    grid_search.fit(X_train, y_train) # GridSearchCV treina nas combinações de hiperparâmetros usando X_train e y_train\n",
    "\n",
    "    # --- 8. Analisar os Resultados do Ajuste Fino ---\n",
    "    print(\"\\n--- Resultados do GridSearchCV ---\")\n",
    "    print(f\"Melhores parâmetros encontrados: {grid_search.best_params_}\")\n",
    "    print(f\"Melhor pontuação (Recall) na validação cruzada: {grid_search.best_score_:.4f}\")\n",
    "\n",
    "    # Obter o melhor modelo treinado\n",
    "    best_model = grid_search.best_estimator_\n",
    "\n",
    "    # --- 9. Avaliar o Melhor Modelo nos Dados de Teste (não vistos durante o tuning) ---\n",
    "    print(\"\\n--- Avaliação Final do Melhor Modelo no Conjunto de Teste ---\")\n",
    "    # Previsões de probabilidade para ajustar o limiar\n",
    "    y_pred_proba = best_model.predict_proba(X_test)[:, 1]\n",
    "\n",
    "    # Definir o limiar (pode ser ajustado com base na curva ROC/Precision-Recall)\n",
    "    custom_threshold = 0.25 # Mantenha seu limiar otimizado de antes\n",
    "\n",
    "    # Converter probabilidades para classes binárias com o limiar personalizado\n",
    "    y_pred_custom = (y_pred_proba >= custom_threshold).astype(int)\n",
    "\n",
    "    # Avaliar com as métricas que você já usa\n",
    "    final_metrics = evaluate(y_test, y_pred_custom)\n",
    "\n",
    "    print(\"Avaliação do Modelo:\")\n",
    "    print(f\"Acurácia: {final_metrics['accuracy']:.4f}\")\n",
    "    print(f\"Precisão: {final_metrics['precision']:.4f}\")\n",
    "    print(f\"Recall: {final_metrics['recall']:.4f}\")\n",
    "    print(f\"F1-Score: {final_metrics['f1_score']:.4f}\")\n",
    "\n",
    "from sklearn.ensemble import RandomForestClassifier\n",
    "\n",
    "grid(\n",
    "    test_set,\n",
    "    train_set,\n",
    "    train_labels,\n",
    "    test_labels,\n",
    "    RandomForestClassifier(),\n",
    "    param_grid = {\n",
    "        'n_estimators': [5,14],\n",
    "        'class_weight': ['balanced', None]\n",
    "    }\n",
    ")"
   ],
   "id": "df96757ef07d6f52",
   "outputs": [
    {
     "name": "stdout",
     "output_type": "stream",
     "text": [
      "Iniciando o GridSearchCV...\n",
      "Fitting 5 folds for each of 4 candidates, totalling 20 fits\n",
      "[CV] END ..............class_weight=balanced, n_estimators=5; total time=   0.0s\n",
      "[CV] END ..............class_weight=balanced, n_estimators=5; total time=   0.0s\n",
      "[CV] END ..............class_weight=balanced, n_estimators=5; total time=   0.0s\n",
      "[CV] END ..............class_weight=balanced, n_estimators=5; total time=   0.0s\n",
      "[CV] END ..............class_weight=balanced, n_estimators=5; total time=   0.0s\n",
      "[CV] END ..................class_weight=None, n_estimators=5; total time=   0.0s\n",
      "[CV] END ..................class_weight=None, n_estimators=5; total time=   0.0s\n",
      "[CV] END ..................class_weight=None, n_estimators=5; total time=   0.0s\n",
      "[CV] END ..................class_weight=None, n_estimators=5; total time=   0.0s\n",
      "[CV] END ..................class_weight=None, n_estimators=5; total time=   0.0s\n",
      "[CV] END .............class_weight=balanced, n_estimators=14; total time=   0.0s\n",
      "[CV] END .............class_weight=balanced, n_estimators=14; total time=   0.0s\n",
      "[CV] END .............class_weight=balanced, n_estimators=14; total time=   0.0s\n",
      "[CV] END .............class_weight=balanced, n_estimators=14; total time=   0.0s\n",
      "[CV] END .............class_weight=balanced, n_estimators=14; total time=   0.0s\n",
      "[CV] END .................class_weight=None, n_estimators=14; total time=   0.0s\n",
      "[CV] END .................class_weight=None, n_estimators=14; total time=   0.0s\n",
      "[CV] END .................class_weight=None, n_estimators=14; total time=   0.0s\n",
      "[CV] END .................class_weight=None, n_estimators=14; total time=   0.0s\n",
      "[CV] END .................class_weight=None, n_estimators=14; total time=   0.0s\n",
      "\n",
      "--- Resultados do GridSearchCV ---\n",
      "Melhores parâmetros encontrados: {'class_weight': None, 'n_estimators': 5}\n",
      "Melhor pontuação (Recall) na validação cruzada: 0.5887\n",
      "\n",
      "--- Avaliação Final do Melhor Modelo no Conjunto de Teste ---\n",
      "Avaliação do Modelo:\n",
      "Acurácia: 0.7078\n",
      "Precisão: 0.5570\n",
      "Recall: 0.8148\n",
      "F1-Score: 0.6617\n"
     ]
    },
    {
     "name": "stderr",
     "output_type": "stream",
     "text": [
      "/home/felipe/projects/tech-challenge/.venv/lib/python3.12/site-packages/sklearn/base.py:380: InconsistentVersionWarning: Trying to unpickle estimator DecisionTreeClassifier from version 1.7.1 when using version 1.6.1. This might lead to breaking code or invalid results. Use at your own risk. For more info please refer to:\n",
      "https://scikit-learn.org/stable/model_persistence.html#security-maintainability-limitations\n",
      "  warnings.warn(\n",
      "/home/felipe/projects/tech-challenge/.venv/lib/python3.12/site-packages/sklearn/base.py:380: InconsistentVersionWarning: Trying to unpickle estimator RandomForestClassifier from version 1.7.1 when using version 1.6.1. This might lead to breaking code or invalid results. Use at your own risk. For more info please refer to:\n",
      "https://scikit-learn.org/stable/model_persistence.html#security-maintainability-limitations\n",
      "  warnings.warn(\n",
      "/home/felipe/projects/tech-challenge/.venv/lib/python3.12/site-packages/sklearn/base.py:380: InconsistentVersionWarning: Trying to unpickle estimator DecisionTreeClassifier from version 1.7.1 when using version 1.6.1. This might lead to breaking code or invalid results. Use at your own risk. For more info please refer to:\n",
      "https://scikit-learn.org/stable/model_persistence.html#security-maintainability-limitations\n",
      "  warnings.warn(\n",
      "/home/felipe/projects/tech-challenge/.venv/lib/python3.12/site-packages/sklearn/base.py:380: InconsistentVersionWarning: Trying to unpickle estimator RandomForestClassifier from version 1.7.1 when using version 1.6.1. This might lead to breaking code or invalid results. Use at your own risk. For more info please refer to:\n",
      "https://scikit-learn.org/stable/model_persistence.html#security-maintainability-limitations\n",
      "  warnings.warn(\n",
      "/home/felipe/projects/tech-challenge/.venv/lib/python3.12/site-packages/sklearn/base.py:380: InconsistentVersionWarning: Trying to unpickle estimator DecisionTreeClassifier from version 1.7.1 when using version 1.6.1. This might lead to breaking code or invalid results. Use at your own risk. For more info please refer to:\n",
      "https://scikit-learn.org/stable/model_persistence.html#security-maintainability-limitations\n",
      "  warnings.warn(\n",
      "/home/felipe/projects/tech-challenge/.venv/lib/python3.12/site-packages/sklearn/base.py:380: InconsistentVersionWarning: Trying to unpickle estimator RandomForestClassifier from version 1.7.1 when using version 1.6.1. This might lead to breaking code or invalid results. Use at your own risk. For more info please refer to:\n",
      "https://scikit-learn.org/stable/model_persistence.html#security-maintainability-limitations\n",
      "  warnings.warn(\n",
      "/home/felipe/projects/tech-challenge/.venv/lib/python3.12/site-packages/sklearn/base.py:380: InconsistentVersionWarning: Trying to unpickle estimator DecisionTreeClassifier from version 1.7.1 when using version 1.6.1. This might lead to breaking code or invalid results. Use at your own risk. For more info please refer to:\n",
      "https://scikit-learn.org/stable/model_persistence.html#security-maintainability-limitations\n",
      "  warnings.warn(\n",
      "/home/felipe/projects/tech-challenge/.venv/lib/python3.12/site-packages/sklearn/base.py:380: InconsistentVersionWarning: Trying to unpickle estimator RandomForestClassifier from version 1.7.1 when using version 1.6.1. This might lead to breaking code or invalid results. Use at your own risk. For more info please refer to:\n",
      "https://scikit-learn.org/stable/model_persistence.html#security-maintainability-limitations\n",
      "  warnings.warn(\n",
      "/home/felipe/projects/tech-challenge/.venv/lib/python3.12/site-packages/sklearn/base.py:380: InconsistentVersionWarning: Trying to unpickle estimator DecisionTreeClassifier from version 1.7.1 when using version 1.6.1. This might lead to breaking code or invalid results. Use at your own risk. For more info please refer to:\n",
      "https://scikit-learn.org/stable/model_persistence.html#security-maintainability-limitations\n",
      "  warnings.warn(\n",
      "/home/felipe/projects/tech-challenge/.venv/lib/python3.12/site-packages/sklearn/base.py:380: InconsistentVersionWarning: Trying to unpickle estimator RandomForestClassifier from version 1.7.1 when using version 1.6.1. This might lead to breaking code or invalid results. Use at your own risk. For more info please refer to:\n",
      "https://scikit-learn.org/stable/model_persistence.html#security-maintainability-limitations\n",
      "  warnings.warn(\n",
      "/home/felipe/projects/tech-challenge/.venv/lib/python3.12/site-packages/sklearn/base.py:380: InconsistentVersionWarning: Trying to unpickle estimator DecisionTreeClassifier from version 1.7.1 when using version 1.6.1. This might lead to breaking code or invalid results. Use at your own risk. For more info please refer to:\n",
      "https://scikit-learn.org/stable/model_persistence.html#security-maintainability-limitations\n",
      "  warnings.warn(\n",
      "/home/felipe/projects/tech-challenge/.venv/lib/python3.12/site-packages/sklearn/base.py:380: InconsistentVersionWarning: Trying to unpickle estimator RandomForestClassifier from version 1.7.1 when using version 1.6.1. This might lead to breaking code or invalid results. Use at your own risk. For more info please refer to:\n",
      "https://scikit-learn.org/stable/model_persistence.html#security-maintainability-limitations\n",
      "  warnings.warn(\n",
      "/home/felipe/projects/tech-challenge/.venv/lib/python3.12/site-packages/sklearn/base.py:380: InconsistentVersionWarning: Trying to unpickle estimator DecisionTreeClassifier from version 1.7.1 when using version 1.6.1. This might lead to breaking code or invalid results. Use at your own risk. For more info please refer to:\n",
      "https://scikit-learn.org/stable/model_persistence.html#security-maintainability-limitations\n",
      "  warnings.warn(\n",
      "/home/felipe/projects/tech-challenge/.venv/lib/python3.12/site-packages/sklearn/base.py:380: InconsistentVersionWarning: Trying to unpickle estimator RandomForestClassifier from version 1.7.1 when using version 1.6.1. This might lead to breaking code or invalid results. Use at your own risk. For more info please refer to:\n",
      "https://scikit-learn.org/stable/model_persistence.html#security-maintainability-limitations\n",
      "  warnings.warn(\n",
      "/home/felipe/projects/tech-challenge/.venv/lib/python3.12/site-packages/sklearn/base.py:380: InconsistentVersionWarning: Trying to unpickle estimator DecisionTreeClassifier from version 1.7.1 when using version 1.6.1. This might lead to breaking code or invalid results. Use at your own risk. For more info please refer to:\n",
      "https://scikit-learn.org/stable/model_persistence.html#security-maintainability-limitations\n",
      "  warnings.warn(\n",
      "/home/felipe/projects/tech-challenge/.venv/lib/python3.12/site-packages/sklearn/base.py:380: InconsistentVersionWarning: Trying to unpickle estimator RandomForestClassifier from version 1.7.1 when using version 1.6.1. This might lead to breaking code or invalid results. Use at your own risk. For more info please refer to:\n",
      "https://scikit-learn.org/stable/model_persistence.html#security-maintainability-limitations\n",
      "  warnings.warn(\n",
      "/home/felipe/projects/tech-challenge/.venv/lib/python3.12/site-packages/sklearn/base.py:380: InconsistentVersionWarning: Trying to unpickle estimator DecisionTreeClassifier from version 1.7.1 when using version 1.6.1. This might lead to breaking code or invalid results. Use at your own risk. For more info please refer to:\n",
      "https://scikit-learn.org/stable/model_persistence.html#security-maintainability-limitations\n",
      "  warnings.warn(\n",
      "/home/felipe/projects/tech-challenge/.venv/lib/python3.12/site-packages/sklearn/base.py:380: InconsistentVersionWarning: Trying to unpickle estimator RandomForestClassifier from version 1.7.1 when using version 1.6.1. This might lead to breaking code or invalid results. Use at your own risk. For more info please refer to:\n",
      "https://scikit-learn.org/stable/model_persistence.html#security-maintainability-limitations\n",
      "  warnings.warn(\n",
      "/home/felipe/projects/tech-challenge/.venv/lib/python3.12/site-packages/sklearn/base.py:380: InconsistentVersionWarning: Trying to unpickle estimator DecisionTreeClassifier from version 1.7.1 when using version 1.6.1. This might lead to breaking code or invalid results. Use at your own risk. For more info please refer to:\n",
      "https://scikit-learn.org/stable/model_persistence.html#security-maintainability-limitations\n",
      "  warnings.warn(\n",
      "/home/felipe/projects/tech-challenge/.venv/lib/python3.12/site-packages/sklearn/base.py:380: InconsistentVersionWarning: Trying to unpickle estimator RandomForestClassifier from version 1.7.1 when using version 1.6.1. This might lead to breaking code or invalid results. Use at your own risk. For more info please refer to:\n",
      "https://scikit-learn.org/stable/model_persistence.html#security-maintainability-limitations\n",
      "  warnings.warn(\n",
      "/home/felipe/projects/tech-challenge/.venv/lib/python3.12/site-packages/sklearn/base.py:380: InconsistentVersionWarning: Trying to unpickle estimator DecisionTreeClassifier from version 1.7.1 when using version 1.6.1. This might lead to breaking code or invalid results. Use at your own risk. For more info please refer to:\n",
      "https://scikit-learn.org/stable/model_persistence.html#security-maintainability-limitations\n",
      "  warnings.warn(\n",
      "/home/felipe/projects/tech-challenge/.venv/lib/python3.12/site-packages/sklearn/base.py:380: InconsistentVersionWarning: Trying to unpickle estimator RandomForestClassifier from version 1.7.1 when using version 1.6.1. This might lead to breaking code or invalid results. Use at your own risk. For more info please refer to:\n",
      "https://scikit-learn.org/stable/model_persistence.html#security-maintainability-limitations\n",
      "  warnings.warn(\n",
      "/home/felipe/projects/tech-challenge/.venv/lib/python3.12/site-packages/sklearn/base.py:380: InconsistentVersionWarning: Trying to unpickle estimator DecisionTreeClassifier from version 1.7.1 when using version 1.6.1. This might lead to breaking code or invalid results. Use at your own risk. For more info please refer to:\n",
      "https://scikit-learn.org/stable/model_persistence.html#security-maintainability-limitations\n",
      "  warnings.warn(\n",
      "/home/felipe/projects/tech-challenge/.venv/lib/python3.12/site-packages/sklearn/base.py:380: InconsistentVersionWarning: Trying to unpickle estimator RandomForestClassifier from version 1.7.1 when using version 1.6.1. This might lead to breaking code or invalid results. Use at your own risk. For more info please refer to:\n",
      "https://scikit-learn.org/stable/model_persistence.html#security-maintainability-limitations\n",
      "  warnings.warn(\n",
      "/home/felipe/projects/tech-challenge/.venv/lib/python3.12/site-packages/sklearn/base.py:380: InconsistentVersionWarning: Trying to unpickle estimator DecisionTreeClassifier from version 1.7.1 when using version 1.6.1. This might lead to breaking code or invalid results. Use at your own risk. For more info please refer to:\n",
      "https://scikit-learn.org/stable/model_persistence.html#security-maintainability-limitations\n",
      "  warnings.warn(\n",
      "/home/felipe/projects/tech-challenge/.venv/lib/python3.12/site-packages/sklearn/base.py:380: InconsistentVersionWarning: Trying to unpickle estimator RandomForestClassifier from version 1.7.1 when using version 1.6.1. This might lead to breaking code or invalid results. Use at your own risk. For more info please refer to:\n",
      "https://scikit-learn.org/stable/model_persistence.html#security-maintainability-limitations\n",
      "  warnings.warn(\n",
      "/home/felipe/projects/tech-challenge/.venv/lib/python3.12/site-packages/sklearn/base.py:380: InconsistentVersionWarning: Trying to unpickle estimator DecisionTreeClassifier from version 1.7.1 when using version 1.6.1. This might lead to breaking code or invalid results. Use at your own risk. For more info please refer to:\n",
      "https://scikit-learn.org/stable/model_persistence.html#security-maintainability-limitations\n",
      "  warnings.warn(\n",
      "/home/felipe/projects/tech-challenge/.venv/lib/python3.12/site-packages/sklearn/base.py:380: InconsistentVersionWarning: Trying to unpickle estimator RandomForestClassifier from version 1.7.1 when using version 1.6.1. This might lead to breaking code or invalid results. Use at your own risk. For more info please refer to:\n",
      "https://scikit-learn.org/stable/model_persistence.html#security-maintainability-limitations\n",
      "  warnings.warn(\n",
      "/home/felipe/projects/tech-challenge/.venv/lib/python3.12/site-packages/sklearn/base.py:380: InconsistentVersionWarning: Trying to unpickle estimator DecisionTreeClassifier from version 1.7.1 when using version 1.6.1. This might lead to breaking code or invalid results. Use at your own risk. For more info please refer to:\n",
      "https://scikit-learn.org/stable/model_persistence.html#security-maintainability-limitations\n",
      "  warnings.warn(\n",
      "/home/felipe/projects/tech-challenge/.venv/lib/python3.12/site-packages/sklearn/base.py:380: InconsistentVersionWarning: Trying to unpickle estimator RandomForestClassifier from version 1.7.1 when using version 1.6.1. This might lead to breaking code or invalid results. Use at your own risk. For more info please refer to:\n",
      "https://scikit-learn.org/stable/model_persistence.html#security-maintainability-limitations\n",
      "  warnings.warn(\n",
      "/home/felipe/projects/tech-challenge/.venv/lib/python3.12/site-packages/sklearn/base.py:380: InconsistentVersionWarning: Trying to unpickle estimator DecisionTreeClassifier from version 1.7.1 when using version 1.6.1. This might lead to breaking code or invalid results. Use at your own risk. For more info please refer to:\n",
      "https://scikit-learn.org/stable/model_persistence.html#security-maintainability-limitations\n",
      "  warnings.warn(\n",
      "/home/felipe/projects/tech-challenge/.venv/lib/python3.12/site-packages/sklearn/base.py:380: InconsistentVersionWarning: Trying to unpickle estimator RandomForestClassifier from version 1.7.1 when using version 1.6.1. This might lead to breaking code or invalid results. Use at your own risk. For more info please refer to:\n",
      "https://scikit-learn.org/stable/model_persistence.html#security-maintainability-limitations\n",
      "  warnings.warn(\n",
      "/home/felipe/projects/tech-challenge/.venv/lib/python3.12/site-packages/sklearn/base.py:380: InconsistentVersionWarning: Trying to unpickle estimator DecisionTreeClassifier from version 1.7.1 when using version 1.6.1. This might lead to breaking code or invalid results. Use at your own risk. For more info please refer to:\n",
      "https://scikit-learn.org/stable/model_persistence.html#security-maintainability-limitations\n",
      "  warnings.warn(\n",
      "/home/felipe/projects/tech-challenge/.venv/lib/python3.12/site-packages/sklearn/base.py:380: InconsistentVersionWarning: Trying to unpickle estimator RandomForestClassifier from version 1.7.1 when using version 1.6.1. This might lead to breaking code or invalid results. Use at your own risk. For more info please refer to:\n",
      "https://scikit-learn.org/stable/model_persistence.html#security-maintainability-limitations\n",
      "  warnings.warn(\n",
      "/home/felipe/projects/tech-challenge/.venv/lib/python3.12/site-packages/sklearn/base.py:380: InconsistentVersionWarning: Trying to unpickle estimator DecisionTreeClassifier from version 1.7.1 when using version 1.6.1. This might lead to breaking code or invalid results. Use at your own risk. For more info please refer to:\n",
      "https://scikit-learn.org/stable/model_persistence.html#security-maintainability-limitations\n",
      "  warnings.warn(\n",
      "/home/felipe/projects/tech-challenge/.venv/lib/python3.12/site-packages/sklearn/base.py:380: InconsistentVersionWarning: Trying to unpickle estimator RandomForestClassifier from version 1.7.1 when using version 1.6.1. This might lead to breaking code or invalid results. Use at your own risk. For more info please refer to:\n",
      "https://scikit-learn.org/stable/model_persistence.html#security-maintainability-limitations\n",
      "  warnings.warn(\n",
      "/home/felipe/projects/tech-challenge/.venv/lib/python3.12/site-packages/sklearn/base.py:380: InconsistentVersionWarning: Trying to unpickle estimator DecisionTreeClassifier from version 1.7.1 when using version 1.6.1. This might lead to breaking code or invalid results. Use at your own risk. For more info please refer to:\n",
      "https://scikit-learn.org/stable/model_persistence.html#security-maintainability-limitations\n",
      "  warnings.warn(\n",
      "/home/felipe/projects/tech-challenge/.venv/lib/python3.12/site-packages/sklearn/base.py:380: InconsistentVersionWarning: Trying to unpickle estimator RandomForestClassifier from version 1.7.1 when using version 1.6.1. This might lead to breaking code or invalid results. Use at your own risk. For more info please refer to:\n",
      "https://scikit-learn.org/stable/model_persistence.html#security-maintainability-limitations\n",
      "  warnings.warn(\n",
      "/home/felipe/projects/tech-challenge/.venv/lib/python3.12/site-packages/sklearn/base.py:380: InconsistentVersionWarning: Trying to unpickle estimator DecisionTreeClassifier from version 1.7.1 when using version 1.6.1. This might lead to breaking code or invalid results. Use at your own risk. For more info please refer to:\n",
      "https://scikit-learn.org/stable/model_persistence.html#security-maintainability-limitations\n",
      "  warnings.warn(\n",
      "/home/felipe/projects/tech-challenge/.venv/lib/python3.12/site-packages/sklearn/base.py:380: InconsistentVersionWarning: Trying to unpickle estimator RandomForestClassifier from version 1.7.1 when using version 1.6.1. This might lead to breaking code or invalid results. Use at your own risk. For more info please refer to:\n",
      "https://scikit-learn.org/stable/model_persistence.html#security-maintainability-limitations\n",
      "  warnings.warn(\n"
     ]
    }
   ],
   "execution_count": 191
  },
  {
   "metadata": {
    "ExecuteTime": {
     "end_time": "2025-07-28T17:56:52.621050Z",
     "start_time": "2025-07-28T17:56:51.123552Z"
    }
   },
   "cell_type": "code",
   "source": [
    "from sklearn.model_selection import cross_val_score, StratifiedKFold\n",
    "from sklearn.preprocessing import StandardScaler\n",
    "from sklearn.svm import SVC\n",
    "\n",
    "def cross(model, x, y, skf):\n",
    "    return cross_val_score(model, x, y, cv=skf, scoring='accuracy')\n",
    "\n",
    "def AplicaValidacaoCruzada(X, y, n_splits=10):\n",
    "    # Escalar os dados\n",
    "    scaler = StandardScaler()\n",
    "    X_scaled = scaler.fit_transform(X)\n",
    "\n",
    "    # StratifiedKFold para manter proporção das classes\n",
    "    skf = StratifiedKFold(n_splits=n_splits, shuffle=True, random_state=42)\n",
    "\n",
    "    # Modelos\n",
    "    knn = KNeighborsClassifier(n_neighbors=9, metric='cosine', weights='distance')\n",
    "    svm = SVC(probability=True, random_state=42)\n",
    "    rf = RandomForestClassifier(random_state=7, class_weight='balanced')\n",
    "\n",
    "    # Cross-validation (usa acurácia por padrão)\n",
    "    knn_scores = cross(knn, X_scaled, y, skf)\n",
    "    svm_scores = cross(svm, X_scaled, y, skf)\n",
    "    rf_scores = cross(rf, X_scaled, y, skf)\n",
    "    # knn_scores = cross_val_score(knn, X_scaled, y, cv=skf, scoring='f1')\n",
    "    # svm_scores = cross_val_score(svm, X_scaled, y, cv=skf)\n",
    "    # rf_scores = cross_val_score(rf, X_scaled, y, cv=skf)\n",
    "\n",
    "    dic_models = {\n",
    "        \"KNN\": knn_scores.mean(),\n",
    "        \"SVM\": svm_scores.mean(),\n",
    "        \"Random Forest\": rf_scores.mean()\n",
    "    }\n",
    "\n",
    "    melhorModelo = max(dic_models, key=dic_models.get)\n",
    "\n",
    "    print(f\"KNN (Accuracy): {knn_scores.mean():.4f}\")\n",
    "    print(f\"SVM (Accuracy): {svm_scores.mean():.4f}\")\n",
    "    print(f\"Random Forest (Accuracy): {rf_scores.mean():.4f}\")\n",
    "    print(f\"O melhor modelo é: {melhorModelo} com valor: {dic_models[melhorModelo]:.4f}\")\n",
    "\n",
    "AplicaValidacaoCruzada(df, labels)"
   ],
   "id": "5446ad3d55f6776e",
   "outputs": [
    {
     "name": "stdout",
     "output_type": "stream",
     "text": [
      "KNN (Accuracy): 0.7578\n",
      "SVM (Accuracy): 0.7695\n",
      "Random Forest (Accuracy): 0.7668\n",
      "O melhor modelo é: SVM com valor: 0.7695\n"
     ]
    }
   ],
   "execution_count": 179
  },
  {
   "metadata": {
    "ExecuteTime": {
     "end_time": "2025-07-28T19:18:45.418616Z",
     "start_time": "2025-07-28T19:18:45.315434Z"
    }
   },
   "cell_type": "code",
   "source": [
    "def cross_validation_all(x, y):\n",
    "    # --- 4. Configurando o StratifiedKFold ---\n",
    "    kfold = StratifiedKFold(n_splits=5, shuffle=True, random_state=42)\n",
    "\n",
    "    # Lista para armazenar os dicionários de métricas de cada fold\n",
    "    all_fold_metrics = []\n",
    "\n",
    "    # --- 5. O Loop de Validação Cruzada ---\n",
    "    for fold_idx, (train_index, test_index) in enumerate(kfold.split(x, y)):\n",
    "        print(f\"\\n--- Processando Fold {fold_idx + 1}/{kfold.n_splits} ---\")\n",
    "\n",
    "        # Dividir os dados em treino e teste para o fold atual\n",
    "        train_set, test_set = x.iloc[train_index], x.iloc[test_index]\n",
    "        train_labels, test_labels = y.iloc[train_index], y.iloc[test_index]\n",
    "\n",
    "        # Treinar o pipeline no fold de treino\n",
    "        df_trained = prepare_train(train_set)\n",
    "        # preprocessor.fit(X_train, y_train)\n",
    "        #\n",
    "        # # Fazer previsões de probabilidade no fold de teste\n",
    "        # y_pred_proba = preprocessor.predict_proba(X_test)[:, 1]\n",
    "\n",
    "        fold_results = model_exc(\n",
    "            # RandomForestClassifier(n_estimators=14, class_weight=\"balanced\"),\n",
    "            GradientBoostingClassifier(n_estimators=9, learning_rate=0.8, max_depth=1, random_state=42),\n",
    "            df_trained,\n",
    "            train_labels,\n",
    "            test_set,\n",
    "            test_labels,\n",
    "            num_cols,\n",
    "        )\n",
    "\n",
    "        #\n",
    "        # # Aplicar o limiar personalizado\n",
    "        # custom_threshold = 0.25 # Você pode experimentar com este valor\n",
    "        # y_pred_custom = (y_pred_proba >= custom_threshold).astype(int)\n",
    "        #\n",
    "        # # Avaliar e armazenar as métricas deste fold\n",
    "        # fold_results = evaluate(test_labels, y_pred_custom)\n",
    "        all_fold_metrics.append(fold_results)\n",
    "        print(f\"Resultados do Fold {fold_idx + 1}:\")\n",
    "        print(f\"  Acurácia: {fold_results['accuracy']:.4f}\")\n",
    "        print(f\"  Precisão: {fold_results['precision']:.4f}\")\n",
    "        print(f\"  Recall: {fold_results['recall']:.4f}\")\n",
    "        print(f\"  F1-Score: {fold_results['f1_score']:.4f}\")\n",
    "        # print(\"  Matriz de Confusão:\\n\", confusion_matrix(y_test, y_pred_custom))\n",
    "\n",
    "    # --- 6. Comparar e Analisar os Resultados Finais ---\n",
    "\n",
    "    # Converter a lista de dicionários em um DataFrame para fácil análise\n",
    "    metrics_df = pd.DataFrame(all_fold_metrics)\n",
    "    #\n",
    "    print(\"\\n--- Resultados Detalhados por Fold ---\")\n",
    "    print(metrics_df.to_string(float_format='%.4f'))\n",
    "    #\n",
    "    print(\"\\n--- Resultados Finais (Desvio Padrão dos Folds) ---\")\n",
    "    # print(metrics_df.mean().rename('Média').to_string(float_format='%.4f'))\n",
    "    print(metrics_df.std().rename('Desvio Padrão').to_string(float_format='%.4f'))\n",
    "\n",
    "cross_validation_all(df, labels)"
   ],
   "id": "fab842ea21fa5e47",
   "outputs": [
    {
     "name": "stdout",
     "output_type": "stream",
     "text": [
      "\n",
      "--- Processando Fold 1/5 ---\n",
      "Resultados do Fold 1:\n",
      "  Acurácia: 0.7338\n",
      "  Precisão: 0.5942\n",
      "  Recall: 0.7593\n",
      "  F1-Score: 0.6667\n",
      "\n",
      "--- Processando Fold 2/5 ---\n",
      "Resultados do Fold 2:\n",
      "  Acurácia: 0.7597\n",
      "  Precisão: 0.6269\n",
      "  Recall: 0.7778\n",
      "  F1-Score: 0.6942\n",
      "\n",
      "--- Processando Fold 3/5 ---\n",
      "Resultados do Fold 3:\n",
      "  Acurácia: 0.7273\n",
      "  Precisão: 0.5769\n",
      "  Recall: 0.8333\n",
      "  F1-Score: 0.6818\n",
      "\n",
      "--- Processando Fold 4/5 ---\n",
      "Resultados do Fold 4:\n",
      "  Acurácia: 0.7190\n",
      "  Precisão: 0.5676\n",
      "  Recall: 0.7925\n",
      "  F1-Score: 0.6614\n",
      "\n",
      "--- Processando Fold 5/5 ---\n",
      "Resultados do Fold 5:\n",
      "  Acurácia: 0.6275\n",
      "  Precisão: 0.4778\n",
      "  Recall: 0.8113\n",
      "  F1-Score: 0.6014\n",
      "\n",
      "--- Resultados Detalhados por Fold ---\n",
      "   accuracy  precision  recall  f1_score\n",
      "0    0.7338     0.5942  0.7593    0.6667\n",
      "1    0.7597     0.6269  0.7778    0.6942\n",
      "2    0.7273     0.5769  0.8333    0.6818\n",
      "3    0.7190     0.5676  0.7925    0.6614\n",
      "4    0.6275     0.4778  0.8113    0.6014\n",
      "\n",
      "--- Resultados Finais (Desvio Padrão dos Folds) ---\n",
      "accuracy    0.0504\n",
      "precision   0.0556\n",
      "recall      0.0288\n",
      "f1_score    0.0358\n"
     ]
    }
   ],
   "execution_count": 216
  },
  {
   "metadata": {
    "ExecuteTime": {
     "end_time": "2025-07-28T19:29:38.879643Z",
     "start_time": "2025-07-28T19:29:38.848499Z"
    }
   },
   "cell_type": "code",
   "source": [
    "from sklearn.ensemble import RandomForestClassifier\n",
    "\n",
    "model_exc(\n",
    "    RandomForestClassifier(n_estimators=14, class_weight=\"balanced\", random_state=42),\n",
    "    train_prepared,\n",
    "    train_labels,\n",
    "    test_set,\n",
    "    test_labels,\n",
    "    num_cols,\n",
    ")"
   ],
   "id": "327c90893aa7bf11",
   "outputs": [
    {
     "data": {
      "text/plain": [
       "{'accuracy': 0.7272727272727273,\n",
       " 'precision': 0.5714285714285714,\n",
       " 'recall': 0.8888888888888888,\n",
       " 'f1_score': 0.6956521739130435}"
      ]
     },
     "execution_count": 252,
     "metadata": {},
     "output_type": "execute_result"
    }
   ],
   "execution_count": 252
  },
  {
   "metadata": {
    "ExecuteTime": {
     "end_time": "2025-07-28T19:29:41.861274Z",
     "start_time": "2025-07-28T19:29:41.840763Z"
    }
   },
   "cell_type": "code",
   "source": [
    "from sklearn.ensemble import GradientBoostingClassifier\n",
    "\n",
    "model_exc(\n",
    "    GradientBoostingClassifier(n_estimators=9, learning_rate=0.8, max_depth=1, random_state=42),\n",
    "    train_prepared,\n",
    "    train_labels,\n",
    "    test_set,\n",
    "    test_labels,\n",
    "    num_cols,\n",
    ")"
   ],
   "id": "706bf7d70aa2bbbb",
   "outputs": [
    {
     "data": {
      "text/plain": [
       "{'accuracy': 0.7532467532467533,\n",
       " 'precision': 0.6,\n",
       " 'recall': 0.8888888888888888,\n",
       " 'f1_score': 0.7164179104477612}"
      ]
     },
     "execution_count": 253,
     "metadata": {},
     "output_type": "execute_result"
    }
   ],
   "execution_count": 253
  },
  {
   "metadata": {
    "ExecuteTime": {
     "end_time": "2025-07-28T10:12:11.473981Z",
     "start_time": "2025-07-28T10:12:11.283902Z"
    }
   },
   "cell_type": "code",
   "source": [
    "import matplotlib.pyplot as plt\n",
    "import seaborn as sns\n",
    "\n",
    "plt.figure(figsize=(10, 8))\n",
    "sns.heatmap(train_set.corr(), annot=True, cmap='rocket_r')\n",
    "plt.title('Mapa de Correlação')"
   ],
   "id": "7d6e1922dbb32e99",
   "outputs": [
    {
     "data": {
      "text/plain": [
       "Text(0.5, 1.0, 'Mapa de Correlação')"
      ]
     },
     "execution_count": 16,
     "metadata": {},
     "output_type": "execute_result"
    },
    {
     "data": {
      "text/plain": [
       "<Figure size 1000x800 with 2 Axes>"
      ],
      "image/png": "[encoded data removed]"
     },
     "metadata": {},
     "output_type": "display_data"
    }
   ],
   "execution_count": 16
  },
  {
   "metadata": {
    "ExecuteTime": {
     "end_time": "2025-07-28T10:50:39.743043Z",
     "start_time": "2025-07-28T10:50:39.068216Z"
    }
   },
   "cell_type": "code",
   "source": [
    "import matplotlib.pyplot as plt\n",
    "import seaborn as sns\n",
    "train_prepared.hist(bins=30, figsize=(12, 8))\n",
    "plt.suptitle(\"Distribuição das Variáveis Numéricas Corrigidas\")\n",
    "plt.tight_layout()"
   ],
   "id": "4ab828039c0e8d06",
   "outputs": [
    {
     "data": {
      "text/plain": [
       "<Figure size 1200x800 with 9 Axes>"
      ],
      "image/png": "[encoded data removed]"
     },
     "metadata": {},
     "output_type": "display_data"
    }
   ],
   "execution_count": 70
  },
  {
   "metadata": {},
   "cell_type": "markdown",
   "source": "# Models",
   "id": "3471becb41137c66"
  },
  {
   "metadata": {
    "ExecuteTime": {
     "end_time": "2025-07-28T10:12:28.478482Z",
     "start_time": "2025-07-28T10:12:28.475347Z"
    }
   },
   "cell_type": "code",
   "source": [
    "#Avaliação do Modelo - no pregnancy, with non zero\n",
    "# Acurácia: 0.7208\n",
    "# Precisão: 0.6222\n",
    "# Recall: 0.5185\n",
    "# F1-Score: 0.5657\n",
    "\n",
    "#Avaliação do Modelo - no pregnancy, withOUT non zero\n",
    "#Acurácia: 0.7338\n",
    "#Precisão: 0.6512\n",
    "#Recall: 0.5185\n",
    "#F1-Score: 0.5773\n",
    "\n",
    "# Avaliação do Modelo - with pregnancy - with non zero\n",
    "# Acurácia: 0.6948\n",
    "# Precisão: 0.5778\n",
    "# Recall: 0.4815\n",
    "# F1-Score: 0.5253\n",
    "\n",
    "# Avaliação do Modelo - Sem pipe de NON ZEROS\n",
    "# Acurácia: 0.7727\n",
    "# Precisão: 0.7714\n",
    "# Recall: 0.5000\n",
    "# F1-Score: 0.6067\n",
    "\n",
    "# Avaliação do Modelo - Com zero_to_mean antes da pipe\n",
    "# Acurácia: 0.7857\n",
    "# Precisão: 0.8182\n",
    "# Recall: 0.5000\n",
    "# F1-Score: 0.6207\n",
    "\n",
    "# Avaliação do Modelo - Com Pipe nonZero e PowerTransformer\n",
    "# Acurácia: 0.7987\n",
    "# Precisão: 0.8485\n",
    "# Recall: 0.5185\n",
    "# F1-Score: 0.6437"
   ],
   "id": "ba009bbdac706038",
   "outputs": [],
   "execution_count": 18
  },
  {
   "metadata": {
    "ExecuteTime": {
     "end_time": "2025-07-28T15:21:05.639031Z",
     "start_time": "2025-07-28T15:21:05.614777Z"
    }
   },
   "cell_type": "code",
   "source": [
    "from sklearn.linear_model import LogisticRegression\n",
    "\n",
    "model_exc(\n",
    "    LogisticRegression(),\n",
    "    train_prepared,\n",
    "    train_labels,\n",
    "    test_set,\n",
    "    test_labels,\n",
    "    num_cols,\n",
    ")"
   ],
   "id": "c9b8f89879aa0c73",
   "outputs": [
    {
     "name": "stdout",
     "output_type": "stream",
     "text": [
      "ModelScore:  0.7207792207792207\n",
      "Avaliação do Modelo:\n",
      "Acurácia: 0.6948\n",
      "Precisão (prever negativos): 0.5432\n",
      "Recall (prever positivos): 0.8148\n",
      "F1-Score (equilibrio precisão vs recall): 0.6519\n",
      "\n",
      "Matriz de Confusão:\n",
      " [[63 37]\n",
      " [10 44]]\n"
     ]
    }
   ],
   "execution_count": 95
  },
  {
   "metadata": {
    "ExecuteTime": {
     "end_time": "2025-07-28T15:21:17.232026Z",
     "start_time": "2025-07-28T15:21:17.213942Z"
    }
   },
   "cell_type": "code",
   "source": [
    "from sklearn.neighbors import KNeighborsClassifier\n",
    "\n",
    "model_exc(\n",
    "    KNeighborsClassifier(n_neighbors=9, metric='cosine', weights='distance'),\n",
    "    train_prepared,\n",
    "    train_labels,\n",
    "    test_set,\n",
    "    test_labels,\n",
    "    num_cols,\n",
    ")"
   ],
   "id": "8e4020dc8c64c661",
   "outputs": [
    {
     "name": "stdout",
     "output_type": "stream",
     "text": [
      "ModelScore:  0.7142857142857143\n",
      "Avaliação do Modelo:\n",
      "Acurácia: 0.6429\n",
      "Precisão (prever negativos): 0.4947\n",
      "Recall (prever positivos): 0.8704\n",
      "F1-Score (equilibrio precisão vs recall): 0.6309\n",
      "\n",
      "Matriz de Confusão:\n",
      " [[52 48]\n",
      " [ 7 47]]\n"
     ]
    }
   ],
   "execution_count": 96
  },
  {
   "metadata": {
    "ExecuteTime": {
     "end_time": "2025-07-28T15:21:26.003734Z",
     "start_time": "2025-07-28T15:21:25.973447Z"
    }
   },
   "cell_type": "code",
   "source": [
    "from sklearn import tree\n",
    "\n",
    "model_exc(\n",
    "    tree.DecisionTreeRegressor(),\n",
    "    train_prepared,\n",
    "    train_labels,\n",
    "    test_set,\n",
    "    test_labels,\n",
    "    num_cols,\n",
    ")"
   ],
   "id": "93cfba57d5443471",
   "outputs": [
    {
     "ename": "AttributeError",
     "evalue": "'DecisionTreeRegressor' object has no attribute 'predict_proba'",
     "output_type": "error",
     "traceback": [
      "\u001B[31m---------------------------------------------------------------------------\u001B[39m",
      "\u001B[31mAttributeError\u001B[39m                            Traceback (most recent call last)",
      "\u001B[36mCell\u001B[39m\u001B[36m \u001B[39m\u001B[32mIn[97]\u001B[39m\u001B[32m, line 3\u001B[39m\n\u001B[32m      1\u001B[39m \u001B[38;5;28;01mfrom\u001B[39;00m\u001B[38;5;250m \u001B[39m\u001B[34;01msklearn\u001B[39;00m\u001B[38;5;250m \u001B[39m\u001B[38;5;28;01mimport\u001B[39;00m tree\n\u001B[32m----> \u001B[39m\u001B[32m3\u001B[39m \u001B[43mmodel_exc\u001B[49m\u001B[43m(\u001B[49m\n\u001B[32m      4\u001B[39m \u001B[43m    \u001B[49m\u001B[43mtree\u001B[49m\u001B[43m.\u001B[49m\u001B[43mDecisionTreeRegressor\u001B[49m\u001B[43m(\u001B[49m\u001B[43m)\u001B[49m\u001B[43m,\u001B[49m\n\u001B[32m      5\u001B[39m \u001B[43m    \u001B[49m\u001B[43mtrain_prepared\u001B[49m\u001B[43m,\u001B[49m\n\u001B[32m      6\u001B[39m \u001B[43m    \u001B[49m\u001B[43mtrain_labels\u001B[49m\u001B[43m,\u001B[49m\n\u001B[32m      7\u001B[39m \u001B[43m    \u001B[49m\u001B[43mtest_set\u001B[49m\u001B[43m,\u001B[49m\n\u001B[32m      8\u001B[39m \u001B[43m    \u001B[49m\u001B[43mtest_labels\u001B[49m\u001B[43m,\u001B[49m\n\u001B[32m      9\u001B[39m \u001B[43m    \u001B[49m\u001B[43mnum_cols\u001B[49m\u001B[43m,\u001B[49m\n\u001B[32m     10\u001B[39m \u001B[43m)\u001B[49m\n",
      "\u001B[36mCell\u001B[39m\u001B[36m \u001B[39m\u001B[32mIn[3]\u001B[39m\u001B[32m, line 49\u001B[39m, in \u001B[36mmodel_exc\u001B[39m\u001B[34m(model, train_prepared, train_labels, test_set, test_labels, cols)\u001B[39m\n\u001B[32m     46\u001B[39m test_prepared = prepare_predict(test_set, cols)\n\u001B[32m     48\u001B[39m \u001B[38;5;66;03m# predictions = model.predict(test_prepared)\u001B[39;00m\n\u001B[32m---> \u001B[39m\u001B[32m49\u001B[39m predictions = \u001B[43mmodel\u001B[49m\u001B[43m.\u001B[49m\u001B[43mpredict_proba\u001B[49m(test_prepared)[:, \u001B[32m1\u001B[39m]\n\u001B[32m     51\u001B[39m \u001B[38;5;66;03m# Por que reduzir o limiar (threshold) aumenta recall e parece melhorar o modelo?\u001B[39;00m\n\u001B[32m     52\u001B[39m \u001B[38;5;66;03m# Modelos de classificação como o RandomForest retornam probabilidades.\u001B[39;00m\n\u001B[32m     53\u001B[39m \u001B[38;5;66;03m# Padrão (0.5), se a probabilidade for > 0.5 → classe 1 (diabetes), senão → classe 0.\u001B[39;00m\n\u001B[32m   (...)\u001B[39m\u001B[32m     56\u001B[39m \u001B[38;5;66;03m#\u001B[39;00m\n\u001B[32m     57\u001B[39m \u001B[38;5;66;03m# Isso aumenta o número de positivos detectados (recall), porque você está sendo mais sensível.\u001B[39;00m\n\u001B[32m     58\u001B[39m threshold = \u001B[32m0.25\u001B[39m\n",
      "\u001B[31mAttributeError\u001B[39m: 'DecisionTreeRegressor' object has no attribute 'predict_proba'"
     ]
    }
   ],
   "execution_count": 97
  },
  {
   "metadata": {
    "ExecuteTime": {
     "end_time": "2025-07-28T15:22:06.499305Z",
     "start_time": "2025-07-28T15:22:06.467260Z"
    }
   },
   "cell_type": "code",
   "source": [
    "from sklearn.ensemble import RandomForestClassifier\n",
    "\n",
    "model_exc(\n",
    "    RandomForestClassifier(n_estimators=14, class_weight=\"balanced\", random_state=42),\n",
    "    train_prepared,\n",
    "    train_labels,\n",
    "    test_set,\n",
    "    test_labels,\n",
    "    num_cols,\n",
    ")"
   ],
   "id": "27917d5d4e52263f",
   "outputs": [
    {
     "name": "stdout",
     "output_type": "stream",
     "text": [
      "ModelScore:  0.7662337662337663\n",
      "Avaliação do Modelo:\n",
      "Acurácia: 0.7273\n",
      "Precisão (prever negativos): 0.5714\n",
      "Recall (prever positivos): 0.8889\n",
      "F1-Score (equilibrio precisão vs recall): 0.6957\n",
      "\n",
      "Matriz de Confusão:\n",
      " [[64 36]\n",
      " [ 6 48]]\n"
     ]
    }
   ],
   "execution_count": 107
  },
  {
   "metadata": {
    "ExecuteTime": {
     "end_time": "2025-07-28T14:50:59.046143Z",
     "start_time": "2025-07-28T14:50:58.978277Z"
    }
   },
   "cell_type": "code",
   "source": [
    "from sklearn.ensemble import GradientBoostingClassifier\n",
    "\n",
    "model_exc(\n",
    "    GradientBoostingClassifier(n_estimators=100, learning_rate=1.0, max_depth=1, random_state=42),\n",
    "    train_prepared,\n",
    "    train_labels,\n",
    "    test_set,\n",
    "    test_labels,\n",
    "    num_cols,\n",
    ")"
   ],
   "id": "1defd642b2401205",
   "outputs": [
    {
     "name": "stdout",
     "output_type": "stream",
     "text": [
      "ModelScore:  0.7792207792207793\n",
      "Avaliação do Modelo:\n",
      "Acurácia: 0.7597\n",
      "Precisão (prever negativos): 0.6133\n",
      "Recall (prever positivos): 0.8519\n",
      "F1-Score (equilibrio precisão vs recall): 0.7132\n",
      "\n",
      "Matriz de Confusão:\n",
      " [[71 29]\n",
      " [ 8 46]]\n"
     ]
    }
   ],
   "execution_count": 191
  }
 ],
 "metadata": {
  "kernelspec": {
   "display_name": "Python 3",
   "language": "python",
   "name": "python3"
  },
  "language_info": {
   "codemirror_mode": {
    "name": "ipython",
    "version": 2
   },
   "file_extension": ".py",
   "mimetype": "text/x-python",
   "name": "python",
   "nbconvert_exporter": "python",
   "pygments_lexer": "ipython2",
   "version": "2.7.6"
  }
 },
 "nbformat": 4,
 "nbformat_minor": 5
}
