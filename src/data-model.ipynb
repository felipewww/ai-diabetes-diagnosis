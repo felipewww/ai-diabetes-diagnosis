{
 "cells": [
  {
   "cell_type": "code",
   "id": "initial_id",
   "metadata": {
    "collapsed": true,
    "ExecuteTime": {
     "end_time": "2025-07-27T14:30:18.686023Z",
     "start_time": "2025-07-27T14:30:18.682361Z"
    }
   },
   "source": [
    "import pandas as pd\n",
    "import numpy as np\n",
    "\n",
    "df = pd.read_csv(\"./data/diabetes.csv\")"
   ],
   "outputs": [],
   "execution_count": 106
  },
  {
   "metadata": {
    "ExecuteTime": {
     "end_time": "2025-07-27T14:30:19.859552Z",
     "start_time": "2025-07-27T14:30:19.856931Z"
    }
   },
   "cell_type": "code",
   "source": [
    "target = \"Outcome\"\n",
    "num_cols = df.drop(columns=[target]).columns # \"X\""
   ],
   "id": "7073860389ea4276",
   "outputs": [],
   "execution_count": 107
  },
  {
   "metadata": {},
   "cell_type": "markdown",
   "source": "# Pipeline",
   "id": "1bc204fc1dc55f80"
  },
  {
   "metadata": {
    "ExecuteTime": {
     "end_time": "2025-07-27T14:30:21.155759Z",
     "start_time": "2025-07-27T14:30:21.153349Z"
    }
   },
   "cell_type": "code",
   "source": [
    "from sklearn.pipeline import Pipeline\n",
    "from sklearn.preprocessing import StandardScaler\n",
    "from sklearn.compose import ColumnTransformer\n",
    "\n",
    "num_pipeline = Pipeline([\n",
    "    ('scaler', StandardScaler()),\n",
    "])\n",
    "\n",
    "preprocessor = ColumnTransformer([\n",
    "    ('num', num_pipeline, num_cols),\n",
    "])"
   ],
   "id": "e0a907fdfad2d0b9",
   "outputs": [],
   "execution_count": 108
  },
  {
   "metadata": {},
   "cell_type": "markdown",
   "source": "# Methods - Prepare",
   "id": "fcf7e6dce77069db"
  },
  {
   "metadata": {
    "ExecuteTime": {
     "end_time": "2025-07-27T14:30:22.961631Z",
     "start_time": "2025-07-27T14:30:22.957347Z"
    }
   },
   "cell_type": "code",
   "source": [
    "from sklearn.model_selection import StratifiedShuffleSplit\n",
    "from sklearn.model_selection import train_test_split\n",
    "\n",
    "def stratify(df: pd.DataFrame, col_name: str):\n",
    "    columns_predictors = df.drop(columns=[target]) # \"X\"\n",
    "    labels = df[target] # \"Y\"\n",
    "\n",
    "    # train_set, test_set, train_labels, test_labels = train_test_split(\n",
    "    #     columns_predictors,\n",
    "    #     labels,\n",
    "    #     test_size = 0.20,\n",
    "    #     random_state = 42,\n",
    "    #     stratify = labels,\n",
    "    # )\n",
    "    #\n",
    "    # return train_set, train_labels, test_set, test_labels\n",
    "\n",
    "    splitter = StratifiedShuffleSplit(\n",
    "        n_splits=1,\n",
    "        test_size=0.2,\n",
    "        random_state=42 # seed\n",
    "    )\n",
    "\n",
    "    split_data = splitter.split(\n",
    "        df,\n",
    "        labels,\n",
    "    )\n",
    "\n",
    "    for train_index, test_index in split_data:\n",
    "        train_set = columns_predictors.loc[train_index].reset_index(drop=True)\n",
    "        test_set = columns_predictors.loc[test_index].reset_index(drop=True)\n",
    "\n",
    "        train_labels = labels.loc[train_index].reset_index(drop=True)\n",
    "        test_labels = labels.loc[test_index].reset_index(drop=True)\n",
    "\n",
    "    return train_set, train_labels, test_set, test_labels\n",
    "\n",
    "def prepare_train(df: pd.DataFrame):\n",
    "    prepared_data = preprocessor.fit_transform(df)\n",
    "\n",
    "    all_feature_names = num_cols\n",
    "\n",
    "    df_transformed = pd.DataFrame(\n",
    "        prepared_data,\n",
    "        columns=all_feature_names\n",
    "    )\n",
    "\n",
    "    return df_transformed, all_feature_names\n",
    "\n",
    "def prepare_predict(df: pd.DataFrame, all_feature_names: list):\n",
    "    prepared_data = preprocessor.transform(df)\n",
    "    df_transformed = pd.DataFrame(prepared_data, columns=all_feature_names, index=df.index)\n",
    "\n",
    "    return df_transformed"
   ],
   "id": "57420325db5974c6",
   "outputs": [],
   "execution_count": 109
  },
  {
   "metadata": {},
   "cell_type": "markdown",
   "source": "# Methods - Evaluation (R2, MAE, MSE...)",
   "id": "1b79d5169c49fec4"
  },
  {
   "metadata": {
    "ExecuteTime": {
     "end_time": "2025-07-27T14:30:26.740828Z",
     "start_time": "2025-07-27T14:30:26.737821Z"
    }
   },
   "cell_type": "code",
   "source": [
    "from sklearn.metrics import accuracy_score, precision_score, recall_score, f1_score, confusion_matrix\n",
    "\n",
    "def evaluate(y_true, y_pred):\n",
    "    print(\"Avaliação do Modelo:\")\n",
    "    print(f\"Acurácia: {accuracy_score(y_true, y_pred):.4f}\")\n",
    "    print(f\"Precisão: {precision_score(y_true, y_pred):.4f}\")\n",
    "    print(f\"Recall: {recall_score(y_true, y_pred):.4f}\")\n",
    "    print(f\"F1-Score: {f1_score(y_true, y_pred):.4f}\")\n",
    "    print(\"\\nMatriz de Confusão:\\n\", confusion_matrix(y_true, y_pred))"
   ],
   "id": "9f26bb7bff7ffaa2",
   "outputs": [],
   "execution_count": 110
  },
  {
   "metadata": {
    "ExecuteTime": {
     "end_time": "2025-07-27T14:30:28.463907Z",
     "start_time": "2025-07-27T14:30:28.458272Z"
    }
   },
   "cell_type": "code",
   "source": "train_set, train_labels, test_set, test_labels = stratify(df, '')",
   "id": "3f1048883651a6a",
   "outputs": [],
   "execution_count": 111
  },
  {
   "metadata": {
    "ExecuteTime": {
     "end_time": "2025-07-27T14:30:30.080854Z",
     "start_time": "2025-07-27T14:30:30.075294Z"
    }
   },
   "cell_type": "code",
   "source": "train_prepared, all_feature_names = prepare_train(train_set)",
   "id": "2e3074312735e62e",
   "outputs": [],
   "execution_count": 112
  },
  {
   "metadata": {},
   "cell_type": "markdown",
   "source": "# Models",
   "id": "3471becb41137c66"
  },
  {
   "metadata": {
    "ExecuteTime": {
     "end_time": "2025-07-27T14:30:56.368116Z",
     "start_time": "2025-07-27T14:30:56.353895Z"
    }
   },
   "cell_type": "code",
   "source": [
    "from sklearn.linear_model import LogisticRegression\n",
    "def logisticRegressionModel():\n",
    "    model = LogisticRegression()\n",
    "    model.fit(train_prepared, train_labels)\n",
    "\n",
    "    test_prepared = prepare_predict(test_set, all_feature_names)\n",
    "\n",
    "    predictions = model.predict(test_prepared)\n",
    "    # print(predictions[:5])\n",
    "    # print(test_labels[:5])\n",
    "    evaluate(test_labels, predictions)\n",
    "\n",
    "logisticRegressionModel()"
   ],
   "id": "ba009bbdac706038",
   "outputs": [
    {
     "name": "stdout",
     "output_type": "stream",
     "text": [
      "Avaliação do Modelo:\n",
      "Acurácia: 0.7143\n",
      "Precisão: 0.6087\n",
      "Recall: 0.5185\n",
      "F1-Score: 0.5600\n",
      "\n",
      "Matriz de Confusão:\n",
      " [[82 18]\n",
      " [26 28]]\n"
     ]
    }
   ],
   "execution_count": 114
  }
 ],
 "metadata": {
  "kernelspec": {
   "display_name": "Python 3",
   "language": "python",
   "name": "python3"
  },
  "language_info": {
   "codemirror_mode": {
    "name": "ipython",
    "version": 2
   },
   "file_extension": ".py",
   "mimetype": "text/x-python",
   "name": "python",
   "nbconvert_exporter": "python",
   "pygments_lexer": "ipython2",
   "version": "2.7.6"
  }
 },
 "nbformat": 4,
 "nbformat_minor": 5
}
