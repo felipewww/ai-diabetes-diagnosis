{
 "cells": [
  {
   "metadata": {
    "ExecuteTime": {
     "end_time": "2025-07-28T19:57:44.811142Z",
     "start_time": "2025-07-28T19:57:44.805525Z"
    }
   },
   "cell_type": "code",
   "source": [
    "import pandas as pd\n",
    "from data_prepare import zero_to_mean, zero_to_nan\n",
    "\n",
    "df = pd.read_csv(\"./data/diabetes.csv\")\n",
    "\n",
    "target = \"Outcome\"\n",
    "labels = df[target]\n",
    "df = df.drop(columns=[target, \"Pregnancies\"])\n",
    "\n",
    "num_cols = df.columns # \"X\"\n",
    "non_zero_cols = [\"Glucose\", \"BloodPressure\", \"SkinThickness\", \"Insulin\", \"BMI\"]"
   ],
   "id": "c55397350b0b18e",
   "outputs": [],
   "execution_count": 1
  },
  {
   "metadata": {
    "ExecuteTime": {
     "end_time": "2025-07-28T19:57:46.374595Z",
     "start_time": "2025-07-28T19:57:46.289361Z"
    }
   },
   "cell_type": "code",
   "source": [
    "from sklearn.impute import SimpleImputer\n",
    "from sklearn.pipeline import Pipeline\n",
    "from sklearn.preprocessing import FunctionTransformer\n",
    "from sklearn.compose import ColumnTransformer\n",
    "from sklearn.preprocessing import MinMaxScaler\n",
    "\n",
    "non_zero_pipeline = Pipeline([\n",
    "    ('impute_zero_to_nan', FunctionTransformer(zero_to_nan)),\n",
    "    ('imputer', SimpleImputer(strategy='mean')),\n",
    "])\n",
    "\n",
    "pre_imputation = ColumnTransformer(\n",
    "    transformers=[\n",
    "        ('non_zero_clean', non_zero_pipeline, non_zero_cols),\n",
    "    ],\n",
    "    remainder='passthrough' # tudo que não for non_zero_cols passa sem mexer\n",
    ")\n",
    "\n",
    "def boost_glucose(X):\n",
    "    X[:, 0] *= 20  # Assume que Glucose será a primeira no pipeline após o ColumnTransformer\n",
    "    return X\n",
    "\n",
    "def boost_insulin(X):\n",
    "    X[:, 3] *= 20  # Assume que Glucose será a primeira no pipeline após o ColumnTransformer\n",
    "    return X\n",
    "\n",
    "boost_glucose_transformer = FunctionTransformer(boost_glucose)\n",
    "boost_insulin_transformer = FunctionTransformer(boost_insulin)\n",
    "\n",
    "preprocessor = Pipeline([\n",
    "    ('pre_clean', pre_imputation),\n",
    "    ('minMax', MinMaxScaler()),\n",
    "    ('boost_glucose', boost_glucose_transformer),\n",
    "    ('boost_insulin', boost_insulin_transformer),\n",
    "])"
   ],
   "id": "57970a27f9351af7",
   "outputs": [],
   "execution_count": 2
  },
  {
   "metadata": {
    "ExecuteTime": {
     "end_time": "2025-07-28T19:57:49.079820Z",
     "start_time": "2025-07-28T19:57:49.073420Z"
    }
   },
   "cell_type": "code",
   "source": [
    "from sklearn.model_selection import train_test_split\n",
    "from sklearn.metrics import accuracy_score, precision_score, recall_score, f1_score, confusion_matrix\n",
    "\n",
    "def stratify(df: pd.DataFrame, target: pd.DataFrame):\n",
    "    train_set, test_set, train_labels, test_labels = train_test_split(\n",
    "        df,\n",
    "        target,\n",
    "        test_size = 0.20,\n",
    "        random_state = 43,\n",
    "        stratify=target,\n",
    "    )\n",
    "\n",
    "    return train_set, train_labels, test_set, test_labels\n",
    "\n",
    "def prepare_train(df: pd.DataFrame):\n",
    "    prepared_data = preprocessor.fit_transform(df)\n",
    "\n",
    "    df_transformed = pd.DataFrame(\n",
    "        prepared_data,\n",
    "        columns=num_cols,\n",
    "        index=df.index,\n",
    "    )\n",
    "\n",
    "    return df_transformed\n",
    "\n",
    "def prepare_predict(df: pd.DataFrame, all_feature_names: list):\n",
    "    prepared_data = preprocessor.transform(df)\n",
    "    df_transformed = pd.DataFrame(\n",
    "        prepared_data,\n",
    "        columns=all_feature_names,\n",
    "        index=df.index\n",
    "    )\n",
    "\n",
    "    return df_transformed\n",
    "\n",
    "def model_exc(\n",
    "        model,\n",
    "        train_prepared: pd.DataFrame,\n",
    "        train_labels: pd.DataFrame,\n",
    "        test_set: pd.DataFrame,\n",
    "        test_labels: pd.DataFrame,\n",
    "        cols: list,\n",
    "):\n",
    "    model.fit(train_prepared, train_labels)\n",
    "\n",
    "    test_prepared = prepare_predict(test_set, cols)\n",
    "\n",
    "    predictions = model.predict_proba(test_prepared)[:, 1]\n",
    "    threshold = 0.25\n",
    "    y_pred_custom = (predictions >= threshold).astype(int)\n",
    "\n",
    "    results = evaluate(test_labels, y_pred_custom)\n",
    "\n",
    "    return results\n",
    "\n",
    "def evaluate(y_true, y_pred):\n",
    "    return {\n",
    "        'accuracy': accuracy_score(y_true, y_pred),\n",
    "        'precision': precision_score(y_true, y_pred), # prever negativos\n",
    "        'recall': recall_score(y_true, y_pred), # prever positivos\n",
    "        'f1_score': f1_score(y_true, y_pred) # equilíbrio precisão vs recall\n",
    "    }"
   ],
   "id": "db6dd89ef9dc94b7",
   "outputs": [],
   "execution_count": 3
  },
  {
   "metadata": {
    "ExecuteTime": {
     "end_time": "2025-07-28T19:57:52.749421Z",
     "start_time": "2025-07-28T19:57:52.736428Z"
    }
   },
   "cell_type": "code",
   "source": [
    "train_set, train_labels, test_set, test_labels = stratify(df, labels)\n",
    "train_prepared = prepare_train(train_set)"
   ],
   "id": "4d8bc03b11be543",
   "outputs": [],
   "execution_count": 4
  },
  {
   "metadata": {
    "ExecuteTime": {
     "end_time": "2025-07-28T20:01:49.161409Z",
     "start_time": "2025-07-28T20:01:49.131650Z"
    }
   },
   "cell_type": "code",
   "source": [
    "from sklearn.ensemble import GradientBoostingClassifier\n",
    "\n",
    "model_exc(\n",
    "    GradientBoostingClassifier(n_estimators=25, learning_rate=0.4, max_depth=1, random_state=42),\n",
    "    train_prepared,\n",
    "    train_labels,\n",
    "    test_set,\n",
    "    test_labels,\n",
    "    num_cols,\n",
    ")"
   ],
   "id": "6c427c09e73e9ecf",
   "outputs": [
    {
     "data": {
      "text/plain": [
       "{'accuracy': 0.7597402597402597,\n",
       " 'precision': 0.6024096385542169,\n",
       " 'recall': 0.9259259259259259,\n",
       " 'f1_score': 0.7299270072992701}"
      ]
     },
     "execution_count": 17,
     "metadata": {},
     "output_type": "execute_result"
    }
   ],
   "execution_count": 17
  },
  {
   "metadata": {},
   "cell_type": "markdown",
   "source": [
    "## Considerações finais\n",
    "\n",
    "- Foram feitos muitos testes com diferentes algorítimos validando as métricas em validação cruzada e outras aplicações de tunning do modelo, tratando dados com valor zero, aplicando escalonamento dos dados e até implementando um \"boost\" em variáveis com maior correlação, mesmo assim o \"precision\" dificilmente ultrapassa 60%. Como a validação cruzada mostrava um desvio padrão muito pequeno em relação aos folds (aprox. 0.05), a conclusão é que o dataset é pequeno e chegou no seu limite.\n",
    "\n",
    "- Reduzir o threshold para 0.25 aumentou o recall (prever mais positivos) porém não tem uma boa precision (pode dar falsos positivos), mas no âmbito médico, é melhor manter um \"false positivo\" e pedir para que a pessoa realize mais exames, do que dar um falso negativo.\n",
    "\n",
    "- Mesmo acertando 92% dos casos positivos, a palavra final sempre será do médico."
   ],
   "id": "82bedba4049f6bba"
  }
 ],
 "metadata": {
  "kernelspec": {
   "display_name": "Python 3",
   "language": "python",
   "name": "python3"
  },
  "language_info": {
   "codemirror_mode": {
    "name": "ipython",
    "version": 2
   },
   "file_extension": ".py",
   "mimetype": "text/x-python",
   "name": "python",
   "nbconvert_exporter": "python",
   "pygments_lexer": "ipython2",
   "version": "2.7.6"
  }
 },
 "nbformat": 4,
 "nbformat_minor": 5
}
